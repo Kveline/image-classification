{
 "cells": [
  {
   "cell_type": "code",
   "execution_count": null,
   "metadata": {
    "id": "oVDGt4MlfVKl"
   },
   "outputs": [],
   "source": [
    "import os"
   ]
  },
  {
   "cell_type": "code",
   "execution_count": null,
   "metadata": {},
   "outputs": [],
   "source": [
    "#Inisialisasi neural network, bobot n bias\n",
    "\n",
    "from random import seed\n",
    "from random import random\n",
    "from random import randrange\n",
    " \n",
    "def init_network(n_inputs, n_hidden, n_outputs):\n",
    "\tnetwork = list()\n",
    "\thidden_layer = [{'weights':[random() for i in range(n_inputs + 1)]} for i in range(n_hidden)]\n",
    "\tnetwork.append(hidden_layer)\n",
    "\toutput_layer = [{'weights':[random() for i in range(n_hidden + 1)]} for i in range(n_outputs)]\n",
    "\tnetwork.append(output_layer)\n",
    "\treturn network\n",
    " \n",
    "seed(1)\n",
    "network = init_network(2, 1, 2)\n",
    "for layer in network:\n",
    "\tprint(layer)"
   ]
  },
  {
   "cell_type": "code",
   "execution_count": null,
   "metadata": {},
   "outputs": [],
   "source": [
    "#directory\n",
    "\n",
    "base_dir = './flowers'\n",
    "sunflower_dir = './flowers/sunflower'\n",
    "daisy_dir = './flowers/daisy'\n",
    "dandelion_dir = './flowers/dandelion'"
   ]
  },
  {
   "cell_type": "code",
   "execution_count": null,
   "metadata": {},
   "outputs": [],
   "source": [
    "#Visualisasi data\n",
    "import cv2\n",
    "import matplotlib.pyplot as plt\n",
    "import numpy as np\n",
    "\n",
    "def vizualization(flowers_name,DIR):\n",
    "    plt.suptitle(flowers_name)\n",
    "    dir_name=os.listdir(DIR)\n",
    "    for j in range(0,4):\n",
    "        img = dir_name[j]\n",
    "        img = cv2.imread(DIR+'/'+img)\n",
    "        img = cv2.cvtColor(img, cv2.COLOR_BGR2RGB)\n",
    "        plt.imshow(img)\n",
    "        plt.show()\n",
    "        \n",
    "vizualization('sunflower',sunflower_dir)\n",
    "vizualization('daisy',daisy_dir)\n",
    "vizualization('dandelion',dandelion_dir)"
   ]
  },
  {
   "cell_type": "code",
   "execution_count": null,
   "metadata": {},
   "outputs": [],
   "source": [
    "#convert ke gray image\n",
    "def grayImage(image):\n",
    "    img = cv2.imread(image)\n",
    "\n",
    "    img_gray = cv2.cvtColor(img, cv2.COLOR_BGR2GRAY)\n",
    "    img_rgb = cv2.cvtColor(img_gray, cv2.COLOR_BGR2RGB)\n",
    "\n",
    "    width = int(320)\n",
    "    height = int(240)\n",
    "    dim = (width, height)\n",
    "\n",
    "    resized = cv2.resize(img_rgb, dim, interpolation = cv2.INTER_AREA)\n",
    "\n",
    "    return resized\n",
    "\n",
    "plt.imshow(grayImage('./flowers/sunflower/sunflo (1).jpg'))\n",
    "plt.show()"
   ]
  },
  {
   "cell_type": "code",
   "execution_count": null,
   "metadata": {},
   "outputs": [],
   "source": [
    "# ambil dataset sunflower\n",
    "x_sunflower = [] #feature\n",
    "for filename in os.listdir(sunflower_dir):\n",
    "    f = os.path.join(sunflower_dir, filename)\n",
    "    # checking if it is a file\n",
    "    if os.path.isfile(f):\n",
    "        x_sunflower.append((grayImage(f)).flatten())\n",
    "\n",
    "x_sunflower = np.array(x_sunflower) #output\n",
    "y_sunflower = [[1, 0, 0] for i in range(len(x_sunflower))]"
   ]
  },
  {
   "cell_type": "code",
   "execution_count": null,
   "metadata": {},
   "outputs": [],
   "source": [
    "# ambil dataset dandelion\n",
    "x_dandelion = []\n",
    "for filename in os.listdir(dandelion_dir):\n",
    "    f = os.path.join(dandelion_dir, filename)\n",
    "    # checking if it is a file\n",
    "    if os.path.isfile(f):\n",
    "        x_dandelion.append((grayImage(f)).flatten())\n",
    "\n",
    "x_dandelion = np.array(x_dandelion)\n",
    "y_dandelion = [[0, 1, 0] for i in range(len(x_dandelion))]"
   ]
  },
  {
   "cell_type": "code",
   "execution_count": null,
   "metadata": {},
   "outputs": [],
   "source": [
    "# ambil dataset daisy\n",
    "x_daisy = []\n",
    "for filename in os.listdir(daisy_dir):\n",
    "    f = os.path.join(daisy_dir, filename)\n",
    "    # checking if it is a file\n",
    "    if os.path.isfile(f):\n",
    "        x_daisy.append((grayImage(f)).flatten())\n",
    "\n",
    "x_daisy = np.array(x_daisy)\n",
    "y_daisy = [[0, 0, 1] for i in range(len(x_daisy))]"
   ]
  },
  {
   "cell_type": "code",
   "execution_count": null,
   "metadata": {},
   "outputs": [],
   "source": [
    "#fungsi sigmoid\n",
    "import math\n",
    "\n",
    "def sigmoid(x):\n",
    "  return 1 / (1 + math.exp(-x))\n",
    "\n",
    "print(sigmoid(32))"
   ]
  },
  {
   "cell_type": "code",
   "execution_count": null,
   "metadata": {},
   "outputs": [],
   "source": [
    "# Calculate neuron activation for an input\n",
    "def activate(weights, inputs):\n",
    "\tactivation = weights[-1]\n",
    "\tfor i in range(len(weights)-1):\n",
    "\t\tactivation += weights[i] * inputs[i]\n",
    "\treturn activation"
   ]
  },
  {
   "cell_type": "code",
   "execution_count": null,
   "metadata": {},
   "outputs": [],
   "source": [
    "def transfer_derivative(output):\n",
    "\treturn output * (1.0 - output)\n",
    " \n",
    "# menghitung error backpropagation\n",
    "def backward_propagate_error(network, expected):\n",
    "\tfor i in reversed(range(len(network))):\n",
    "\t\tlayer = network[i]\n",
    "\t\terrors = list()\n",
    "\t\tif i != len(network)-1:\n",
    "\t\t\tfor j in range(len(layer)):\n",
    "\t\t\t\terror = 0.0\n",
    "\t\t\t\tfor neuron in network[i + 1]:\n",
    "\t\t\t\t\terror += (neuron['weights'][j] * neuron['delta'])\n",
    "\t\t\t\terrors.append(error)\n",
    "\t\telse:\n",
    "\t\t\tfor j in range(len(layer)):\n",
    "\t\t\t\tneuron = layer[j]\n",
    "\t\t\t\terrors.append(expected[j] - neuron['output'])\n",
    "\t\tfor j in range(len(layer)):\n",
    "\t\t\tneuron = layer[j]\n",
    "\t\t\tneuron['delta'] = errors[j] * transfer_derivative(neuron['output'])\n",
    " \n",
    "# test error backpropagation\n",
    "network = [[{'output': 0.7105668883115941, 'weights': [0.13436424411240122, 0.8474337369372327, 0.763774618976614]}],\n",
    "\t\t[{'output': 0.6213859615555266, 'weights': [0.2550690257394217, 0.49543508709194095]}, {'output': 0.6573693455986976, 'weights': [0.4494910647887381, 0.651592972722763]}],\n",
    "\t\t[{'output': 0.6213859615555266, 'weights': [0.2550690257394217, 0.49543508709194095]}, {'output': 0.6573693455986976, 'weights': [0.4494910647887381, 0.651592972722763]}]]\n",
    "expected = [0, 1, 1]\n",
    "backward_propagate_error(network, expected)\n",
    "for layer in network:\n",
    "\tprint(layer)"
   ]
  },
  {
   "cell_type": "code",
   "execution_count": null,
   "metadata": {},
   "outputs": [],
   "source": [
    "# backporopagation - Feedforward\n",
    "def forward_propagate(network, row):\n",
    "\tinputs = row\n",
    "\tfor layer in network:\n",
    "\t\tnew_inputs = []\n",
    "\t\tfor neuron in layer:\n",
    "\t\t\tactivation = activate(neuron['weights'], inputs)\n",
    "\t\t\tneuron['output'] = sigmoid(activation)\n",
    "\t\t\tnew_inputs.append(neuron['output'])\n",
    "\t\tinputs = new_inputs\n",
    "\treturn inputs"
   ]
  },
  {
   "cell_type": "code",
   "execution_count": null,
   "metadata": {},
   "outputs": [],
   "source": [
    "# Calculate the derivative of an neuron output\n",
    "def transfer_derivative(output):\n",
    "\treturn output * (1.0 - output)\n",
    " \n",
    "# Backpropagate error and store in neurons\n",
    "def backward_propagate_error(network, expected):\n",
    "\tfor i in reversed(range(len(network))):\n",
    "\t\tlayer = network[i]\n",
    "\t\terrors = list()\n",
    "\t\tif i != len(network)-1:\n",
    "\t\t\tfor j in range(len(layer)):\n",
    "\t\t\t\terror = 0.0\n",
    "\t\t\t\tfor neuron in network[i + 1]:\n",
    "\t\t\t\t\terror += (neuron['weights'][j] * neuron['delta'])\n",
    "\t\t\t\terrors.append(error)\n",
    "\t\telse:\n",
    "\t\t\tfor j in range(len(layer)):\n",
    "\t\t\t\tneuron = layer[j]\n",
    "\t\t\t\terrors.append(expected[j] - neuron['output'])\n",
    "\t\tfor j in range(len(layer)):\n",
    "\t\t\tneuron = layer[j]\n",
    "\t\t\tneuron['delta'] = errors[j] * transfer_derivative(neuron['output'])\n",
    " \n",
    "# test backpropagation of error\n",
    "network = [[{'output': 0.7105668883115941, 'weights': [0.13436424411240122, 0.8474337369372327, 0.763774618976614]}],\n",
    "\t\t[{'output': 0.6213859615555266, 'weights': [0.2550690257394217, 0.49543508709194095]}, {'output': 0.6573693455986976, 'weights': [0.4494910647887381, 0.651592972722763]}],\n",
    "\t\t[{'output': 0.6213859615555266, 'weights': [0.2550690257394217, 0.49543508709194095]}, {'output': 0.6573693455986976, 'weights': [0.4494910647887381, 0.651592972722763]}]]\n",
    "expected = [0, 1, 1]\n",
    "backward_propagate_error(network, expected)\n",
    "for layer in network:\n",
    "\tprint(layer)\n",
    "\n",
    "# Update bobot\n",
    "def update_weights(network, row, l_rate):\n",
    "    for i in range(len(network)):\n",
    "        inputs = row[:-1]\n",
    "        if i != 0:\n",
    "            inputs = [neuron['output'] for neuron in network[i - 1]]\n",
    "        for neuron in network[i]:\n",
    "            for j in range(len(inputs)):\n",
    "                neuron['weights'][j] += l_rate * neuron['delta'] * inputs[j]\n",
    "            neuron['weights'][-1] += l_rate * neuron['delta']"
   ]
  },
  {
   "cell_type": "code",
   "execution_count": null,
   "metadata": {},
   "outputs": [],
   "source": [
    "from sklearn.utils import shuffle\n",
    "\n",
    "# penggabungan dataset dari 3 kelas\n",
    "x = np.concatenate((x_sunflower, x_dandelion, x_daisy), axis=0)\n",
    "y = np.concatenate((y_sunflower, y_dandelion, y_daisy), axis=0)"
   ]
  },
  {
   "cell_type": "code",
   "execution_count": null,
   "metadata": {},
   "outputs": [],
   "source": [
    "# train test split\n",
    "# acak array karena array sebelumnya kelasnya berurutan\n",
    "x, y = shuffle(x, y, random_state=0)\n",
    "\n",
    "def train_test_split(dataset, split=0.80):\n",
    "    train = list()\n",
    "    train_size = split * len(dataset)\n",
    "    test = list(dataset)\n",
    "    while len(train) < train_size:\n",
    "        index = randrange(len(test))\n",
    "        train.append(test.pop())\n",
    "    return np.array(train), np.array(test)\n",
    "\n",
    "x_train, x_test = train_test_split(x)\n",
    "y_train, y_test = train_test_split(y)"
   ]
  },
  {
   "cell_type": "code",
   "execution_count": null,
   "metadata": {},
   "outputs": [],
   "source": [
    "x_train, x_test"
   ]
  },
  {
   "cell_type": "code",
   "execution_count": null,
   "metadata": {},
   "outputs": [],
   "source": [
    "# inisialisasi network\n",
    "seed(1)\n",
    "# banyak input dan output\n",
    "n_inputs = len(x[0]) - 1\n",
    "n_outputs = 3\n",
    "network = init_network(n_inputs, 1, n_outputs)"
   ]
  },
  {
   "cell_type": "code",
   "execution_count": null,
   "metadata": {},
   "outputs": [],
   "source": [
    "# max function\n",
    "def find_max(arr):\n",
    "  index = np.argmax(arr)\n",
    "  if index == 0:\n",
    "    arr[0] = 1\n",
    "    arr[1] = 0\n",
    "    arr[2] = 0\n",
    "  elif index == 1:\n",
    "    arr[0] = 0\n",
    "    arr[1] = 1\n",
    "    arr[2] = 0\n",
    "  else :\n",
    "    arr[0] = 0\n",
    "    arr[1] = 0\n",
    "    arr[2] = 1\n",
    "  return arr"
   ]
  },
  {
   "cell_type": "code",
   "execution_count": null,
   "metadata": {},
   "outputs": [],
   "source": [
    "# Prediksi\n",
    "predicted = []\n",
    "def predict(network, row):\n",
    "    outputs = forward_propagate(network, row)\n",
    "    outputs = find_max(outputs)\n",
    "    #penamaan kelas     \n",
    "    if(outputs == [1, 0, 0]):\n",
    "        name = \"Sunflower\"\n",
    "    elif (outputs == [0, 1, 0]):\n",
    "        name = \"Dandelion\"\n",
    "    elif (outputs == [0, 0, 1]):\n",
    "        name = \"Daisy\"\n",
    "    else :\n",
    "        name = \"undefined\"\n",
    "    return outputs, name\n",
    "\n",
    "for row in x_test:\n",
    "    prediction, name = predict(network, row)\n",
    "    predicted.append(prediction)\n",
    "    print(prediction, name)"
   ]
  },
  {
   "cell_type": "code",
   "execution_count": null,
   "metadata": {},
   "outputs": [],
   "source": [
    "# mencari nilai akurasi\n",
    "def nilai_akurasi(actual, predicted):\n",
    "    correct = 0\n",
    "    for i in range(len(actual)):\n",
    "        if (actual[i] == predicted[i]).all():\n",
    "            correct += 1\n",
    "    return correct / float(len(actual)) * 100.0\n",
    "\n",
    "akurasi = nilai_akurasi(y_test, predicted)\n",
    "print(akurasi)"
   ]
  },
  {
   "cell_type": "code",
   "execution_count": null,
   "metadata": {},
   "outputs": [],
   "source": [
    "def akurasi_network(network, x_test, y_test):\n",
    "    predicted = []\n",
    "    for row in x_test:\n",
    "        prediction, name = predict(network, row)\n",
    "        predicted.append(prediction)\n",
    "    akurasi = nilai_akurasi(y_test, predicted)\n",
    "    return akurasi\n",
    "\n",
    "akurasi_network(network, x_test, y_test)"
   ]
  },
  {
   "cell_type": "code",
   "execution_count": null,
   "metadata": {},
   "outputs": [],
   "source": [
    "import matplotlib.pyplot as plt\n",
    "\n",
    "# fungsi training\n",
    "def train_network(network, x_train, y_train, y_test, x_test, l_rate, n_epoch, n_outputs):\n",
    "  list_akurasi = []\n",
    "  list_error = []\n",
    "  for epoch in range(n_epoch):\n",
    "    sum_error = 0\n",
    "    akurasi = 0\n",
    "    for index,row in enumerate(x_train):\n",
    "      outputs = forward_propagate(network, row)\n",
    "      expected = y_train[index]\n",
    "      sum_error += sum([(expected[i]-outputs[i])**2 for i in range(len(expected))])\n",
    "      backward_propagate_error(network, expected)\n",
    "      update_weights(network, row, l_rate)\n",
    "      akurasi = akurasi_network(network, x_test, y_test)\n",
    "    list_akurasi.append(akurasi)\n",
    "    list_error.append(sum_error)\n",
    "    print('>epoch=%d, learning_rate=%.3f, error=%.3f, akurasi=%.3f' % (epoch, l_rate, sum_error, akurasi))\n",
    "  print(list_akurasi, list_error)\n",
    "  # plotting the points \n",
    "  plt.plot(list_akurasi, list_error)\n",
    "  plt.xlabel('akurasi - axis')\n",
    "  plt.ylabel('error - axis')\n",
    "  plt.title('Plotting Hasil Train (Akurasi dan Error)')\n",
    "  plt.show()\n",
    "  return network\n",
    "\n",
    "    \n",
    "# test train\n",
    "seed(1)\n",
    "# banyak input dan output\n",
    "n_inputs = len(x[0]) - 1\n",
    "n_outputs = 3\n",
    "\n",
    "# network hasil training\n",
    "trained_network = train_network(network, x_train, y_train, y_test, x_test, 0.1, 50, n_outputs)"
   ]
  },
  {
   "cell_type": "code",
   "execution_count": null,
   "metadata": {},
   "outputs": [],
   "source": []
  }
 ],
 "metadata": {
  "colab": {
   "name": "image-classification.ipynb",
   "provenance": []
  },
  "kernelspec": {
   "display_name": "Python 3",
   "language": "python",
   "name": "python3"
  },
  "language_info": {
   "codemirror_mode": {
    "name": "ipython",
    "version": 3
   },
   "file_extension": ".py",
   "mimetype": "text/x-python",
   "name": "python",
   "nbconvert_exporter": "python",
   "pygments_lexer": "ipython3",
   "version": "3.7.4"
  },
  "metadata": {
   "interpreter": {
    "hash": "8da01e5a71448ea74f54d88afa8911010d1d12e23bc7e103d40d5def4a09152c"
   }
  }
 },
 "nbformat": 4,
 "nbformat_minor": 1
}
